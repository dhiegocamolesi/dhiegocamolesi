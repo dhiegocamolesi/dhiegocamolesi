import boto3 #Biblioteca Python para interagir com os serviços da AWS, incluindo o Kinesis.
import json
from random import uniform #Função da biblioteca random que gera um número de ponto flutuante (float) dentro de um intervalo especificado
import time
from datetime import datetime


#Cria um cliente do serviço Kinesis usando as credenciais fornecidas (aws_access_key_id e aws_secret_access_key), e especifica a região us-east-1 da AWS.
#O cliente é usado para interagir com o serviço Kinesis e enviar os dados.
cliente = boto3.client('kinesis',aws_access_key_id='MEU ACESSO', aws_secret_access_key='MINHA CHAVE',
                       region_name='us-east-1')


#Gera um valor aleatório entre 70 e 80, simulando a leitura de um sensor (como pressão hidráulica ou temperatura).
#Envia o registro para o stream do Kinesis chamado 'windfarm'
id = 0
while True:
  dados = uniform(70,80)
  id += 1;
  registro = {'idtemp' : str(id), 'data' : str(dados), 'type': 'hydraulicpressure', 'timestamp' : str(datetime.now()) }
  cliente.put_record(StreamName='windfarm', Data = json.dumps(registro), PartitionKey='02')
  time.sleep(10)


